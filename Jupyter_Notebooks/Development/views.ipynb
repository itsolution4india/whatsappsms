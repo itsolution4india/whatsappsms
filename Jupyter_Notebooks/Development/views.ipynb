{
 "cells": [
  {
   "cell_type": "code",
   "execution_count": null,
   "metadata": {},
   "outputs": [],
   "source": []
  },
  {
   "cell_type": "code",
   "execution_count": 6,
   "metadata": {},
   "outputs": [],
   "source": [
    "def fnn(valid_numbers,discount):\n",
    "    discount1=(len(valid_numbers)*discount)//100\n",
    "    return discount1\n",
    "\n",
    "def whitelist(valid_numbers, whitelist_number, blacklist_numbers, discount):\n",
    "        final_list = []\n",
    "        \n",
    "        for i in valid_numbers:\n",
    "            if i in whitelist_number and i not in blacklist_numbers:\n",
    "                final_list.append(i)\n",
    "        count = 0\n",
    "        for j in valid_numbers:\n",
    "            if j not in whitelist_number and j not in blacklist_numbers:\n",
    "                count+=1\n",
    "                if count > discount:\n",
    "                    final_list.append(j)\n",
    "                else:\n",
    "                    continue\n",
    "        return final_list"
   ]
  },
  {
   "cell_type": "code",
   "execution_count": 5,
   "metadata": {},
   "outputs": [],
   "source": [
    "valid_numbers = [1, 2, 3, 4, 5, 6, 7, 8, 9, 10, 11, 12, 13, 14, 15, 16, 17, 18, 19, 20, \n",
    "21, 22, 23, 24, 25, 26, 27, 28, 29, 30, 31, 32, 33, 34, 35, 36, 37, 38, \n",
    "39, 40, 41, 42, 43, 44, 45, 46, 47, 48, 49, 50, 51, 52, 53, 54, 55, 56, \n",
    "57, 58, 59, 60, 61, 62, 63, 64, 65, 66, 67, 68, 69, 70, 71, 72, 73, 74, \n",
    "75, 76, 77, 78, 79, 80, 81, 82, 83, 84, 85, 86, 87, 88, 89, 90, 91, 92, \n",
    "93, 94, 95]\n",
    "\n",
    "whitelist_number = [6, 7, 8, 9, 200]\n",
    "blacklist_numbers = []\n",
    "\n",
    "discount = 0"
   ]
  },
  {
   "cell_type": "code",
   "execution_count": 3,
   "metadata": {},
   "outputs": [
    {
     "name": "stdout",
     "output_type": "stream",
     "text": [
      "0\n"
     ]
    }
   ],
   "source": [
    "c = fnn(valid_numbers,discount)\n",
    "print(c)"
   ]
  },
  {
   "cell_type": "code",
   "execution_count": 4,
   "metadata": {},
   "outputs": [
    {
     "name": "stdout",
     "output_type": "stream",
     "text": [
      "len of valid phone numbers 95\n",
      "len of final phone numbers 95\n",
      "[6, 7, 8, 9, 1, 2, 3, 4, 5, 10, 11, 12, 13, 14, 15, 16, 17, 18, 19, 20, 21, 22, 23, 24, 25, 26, 27, 28, 29, 30, 31, 32, 33, 34, 35, 36, 37, 38, 39, 40, 41, 42, 43, 44, 45, 46, 47, 48, 49, 50, 51, 52, 53, 54, 55, 56, 57, 58, 59, 60, 61, 62, 63, 64, 65, 66, 67, 68, 69, 70, 71, 72, 73, 74, 75, 76, 77, 78, 79, 80, 81, 82, 83, 84, 85, 86, 87, 88, 89, 90, 91, 92, 93, 94, 95]\n",
      "discount 0\n"
     ]
    }
   ],
   "source": [
    "x = whitelist(valid_numbers, whitelist_number, blacklist_numbers, fnn(valid_numbers,discount))   \n",
    "\n",
    "print(\"len of valid phone numbers\", len(valid_numbers))\n",
    "print(\"len of final phone numbers\", len(x))\n",
    "print(x)\n",
    "print(\"discount\", discount)"
   ]
  }
 ],
 "metadata": {
  "kernelspec": {
   "display_name": "Python 3",
   "language": "python",
   "name": "python3"
  },
  "language_info": {
   "codemirror_mode": {
    "name": "ipython",
    "version": 3
   },
   "file_extension": ".py",
   "mimetype": "text/x-python",
   "name": "python",
   "nbconvert_exporter": "python",
   "pygments_lexer": "ipython3",
   "version": "3.12.4"
  }
 },
 "nbformat": 4,
 "nbformat_minor": 2
}
